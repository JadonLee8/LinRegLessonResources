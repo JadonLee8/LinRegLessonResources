{
 "cells": [
  {
   "cell_type": "code",
   "execution_count": 11,
   "metadata": {},
   "outputs": [],
   "source": [
    "import pandas as pd\n",
    "import numpy as np\n",
    "from sklearn.linear_model import LinearRegression"
   ]
  },
  {
   "cell_type": "code",
   "execution_count": 13,
   "metadata": {},
   "outputs": [
    {
     "name": "stdout",
     "output_type": "stream",
     "text": [
      "[17.61751441 22.09543036 20.87188102 15.67139229  3.5126277  22.99150774\n",
      " 13.81763987  3.50108598  3.30022049  7.68910858  0.69137387 21.74992762\n",
      " 22.99923597 15.7016011   6.80904592 21.92239567 12.65701728 18.66106658\n",
      " 18.14260585 12.62831354  8.57660954  1.19968991 15.10163205 12.1369356\n",
      " 22.52749991 15.44429369  2.58999369 17.08884191 13.19548401  8.27579892\n",
      " 22.53016747  2.54254039 11.1908747  11.7395958  21.90137928  3.38762681\n",
      "  9.74036062 19.45124802  3.31291162 17.28643623]\n"
     ]
    }
   ],
   "source": [
    "data = pd.read_csv('output.csv')\n",
    "x = np.array(data['Meetings Attended'])\n",
    "y = np.array(data['Grade Increase'])"
   ]
  },
  {
   "cell_type": "code",
   "execution_count": 17,
   "metadata": {},
   "outputs": [
    {
     "name": "stdout",
     "output_type": "stream",
     "text": [
      "[0.2816031]\n",
      "{'copy_X': True, 'fit_intercept': False, 'n_jobs': None, 'normalize': 'deprecated', 'positive': False}\n"
     ]
    }
   ],
   "source": [
    "reg = LinearRegression(fit_intercept = False).fit(x.reshape(-1, 1), y)\n",
    "print(reg.coef_)"
   ]
  }
 ],
 "metadata": {
  "kernelspec": {
   "display_name": "Python 3.10.8 64-bit",
   "language": "python",
   "name": "python3"
  },
  "language_info": {
   "codemirror_mode": {
    "name": "ipython",
    "version": 3
   },
   "file_extension": ".py",
   "mimetype": "text/x-python",
   "name": "python",
   "nbconvert_exporter": "python",
   "pygments_lexer": "ipython3",
   "version": "3.10.8"
  },
  "orig_nbformat": 4,
  "vscode": {
   "interpreter": {
    "hash": "bd13b3ad3a7bbbe735ec4bed59288a593d59184c2d706c2cba977143b0f1fc76"
   }
  }
 },
 "nbformat": 4,
 "nbformat_minor": 2
}
