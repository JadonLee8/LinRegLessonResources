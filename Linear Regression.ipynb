{
 "cells": [
  {
   "cell_type": "markdown",
   "metadata": {},
   "source": [
    "# Linear Regression\n",
    "### About the Notebook\n",
    "This notebook contains a random dataset generator and linear regression demonstration.\n",
    "- Jadon Lee"
   ]
  },
  {
   "cell_type": "markdown",
   "metadata": {},
   "source": [
    "### Import Libraries"
   ]
  },
  {
   "cell_type": "code",
   "execution_count": null,
   "metadata": {},
   "outputs": [],
   "source": [
    "import random\n",
    "from matplotlib import pyplot as plt\n",
    "import pandas as pd\n",
    "import numpy as np\n",
    "from sklearn import LinearRegression"
   ]
  },
  {
   "cell_type": "markdown",
   "metadata": {},
   "source": [
    "### Generate Random Data (Optional)\n",
    "The following code will generate a random data set that has a correlation around a given line. Replace \"X Name\" and \"Y Name\" with you x and y axis variables. Remember that your X variable is the *input* and your Y is the *output* that we are trying to predict."
   ]
  },
  {
   "cell_type": "code",
   "execution_count": null,
   "metadata": {},
   "outputs": [],
   "source": [
    "m = 3\n",
    "b = 10\n",
    "numPoints = 40\n",
    "minX = 0\n",
    "maxX = 24\n",
    "yVariability = 2\n",
    "\n",
    "X = []\n",
    "Y = []\n",
    "for i in range(numPoints):\n",
    "      x = random.uniform(minX, maxX)\n",
    "      X.append(x)\n",
    "      y = x * m + b + random.uniform(-yVariability, yVariability)\n",
    "      Y.append(y)\n",
    "      plt.scatter(x, y)\n",
    "\n",
    "coordinates = {\n",
    "    'X Name': X,\n",
    "    'Y Name': Y\n",
    "}\n",
    "\n",
    "coords = pandas.DataFrame(coordinates)\n",
    "\n",
    "coords.to_csv('./output.csv', index=False)\n",
    "\n",
    "coords.head()"
   ]
  },
  {
   "cell_type": "markdown",
   "metadata": {},
   "source": [
    "### Read Data From CSV"
   ]
  },
  {
   "cell_type": "code",
   "execution_count": null,
   "metadata": {},
   "outputs": [],
   "source": [
    "data = pd.read_csv('./output.csv') # change to ./output.csv if you want to use the random data generated from the last code block.\n",
    "plt.scatter(data['X Name'], data['Y Name'])"
   ]
  },
  {
   "cell_type": "markdown",
   "metadata": {},
   "source": [
    "### Define Sum Of Squared Residuals Cost Function\n"
   ]
  },
  {
   "cell_type": "code",
   "execution_count": null,
   "metadata": {},
   "outputs": [],
   "source": [
    "def error(s, b):\n",
    "    sum = 0\n",
    "    iteration = 0\n",
    "    for x in data['X Name']:\n",
    "        y = s * x + b\n",
    "        sum += ((y - data.loc[iteration, 'Y Name']))\n",
    "        iteration += 1\n",
    "    return sum"
   ]
  },
  {
   "cell_type": "markdown",
   "metadata": {},
   "source": [
    "### Make a guess\n",
    "If you want, you can make a guess by choosing a random line to represent your data. This is useful for seeing how sum of squared errors works."
   ]
  },
  {
   "cell_type": "code",
   "execution_count": null,
   "metadata": {},
   "outputs": [],
   "source": [
    "slope = 1\n",
    "intercept = 0\n",
    "plt.cla() # clear plot\n",
    "plt.scatter(data['X Name'], data['Y Name'], c='#ff6c3b')\n",
    "vx = np.linspace(0, 24) # set the domain of your line\n",
    "vy = vx*slope # TIP: replace the multiplication * with a ** if you want to use exponents.\n",
    "plt.gca().set_ylim([0, 10]) # set range limits\n",
    "plt.plot(vx, vy, c='r') # the c value is just color. It can be changed to a custom hex value or color word (ex: green)\n",
    "plt.show()\n",
    "print(error(slope, intercept))"
   ]
  },
  {
   "cell_type": "markdown",
   "metadata": {},
   "source": [
    "### Graph The Cost Function\n",
    "While this is not a necessary step in gradient descent and linear regression, it is very helpful in visualizing our goal.\n",
    "Note: I am only graphing a 2d cost function with the sloe on the x axis and cost on the y axis, ignoring the intercept in the graph. If you would like, though, you can adust the slope to see how it shifts the graph as a whole"
   ]
  },
  {
   "cell_type": "code",
   "execution_count": null,
   "metadata": {},
   "outputs": [],
   "source": [
    "def graph_cost(b, domain_max, domain_min):\n",
    "    plt.cla()\n",
    "    slope = domain_min\n",
    "    while slope < domain_max:\n",
    "        sum = 0\n",
    "        iteration = 0\n",
    "        for x in data['X Name']:\n",
    "            y = slope * x + b\n",
    "            sum += ((y - data.loc[iteration, 'Y Name']) ** 2)\n",
    "            iteration += 1\n",
    "        plt.scatter(slope, sum, color='red')\n",
    "        slope += .1\n",
    "    plt.show()"
   ]
  },
  {
   "cell_type": "code",
   "execution_count": null,
   "metadata": {},
   "outputs": [],
   "source": [
    "graph_cost(0, -2, 2)"
   ]
  },
  {
   "cell_type": "markdown",
   "metadata": {},
   "source": [
    "### Perform a Least Squares Regression\n",
    "Why a least squares regression? A least squares regression (in 2d graph at least) will result in the same result as a gradient descent."
   ]
  },
  {
   "cell_type": "code",
   "execution_count": null,
   "metadata": {},
   "outputs": [],
   "source": [
    "x = np.array(data['X Name'])\n",
    "y = np.array(data['Y Name'])\n",
    "reg = LinearRegression().fit(x.reshape(-1, 1), y)\n",
    "print(reg.coef_) # print slope\n",
    "print(reg.intercept_) # print y-intercept"
   ]
  },
  {
   "cell_type": "markdown",
   "metadata": {},
   "source": [
    "### Print Line On Scatter Plot"
   ]
  },
  {
   "cell_type": "markdown",
   "metadata": {},
   "source": [
    "### Perform A Stochastic Gradient Descent Regression\n",
    "The results should vary only slightly from standard regression, but should take less time to yield. With such a small data set and so few features, though, the benefits will be miniscule. As the amount of data scales up, using stochastic gradient descent becomes more and more beneficial."
   ]
  }
 ],
 "metadata": {
  "kernelspec": {
   "display_name": "Python 3.10.8 64-bit",
   "language": "python",
   "name": "python3"
  },
  "language_info": {
   "name": "python",
   "version": "3.10.8"
  },
  "orig_nbformat": 4,
  "vscode": {
   "interpreter": {
    "hash": "bd13b3ad3a7bbbe735ec4bed59288a593d59184c2d706c2cba977143b0f1fc76"
   }
  }
 },
 "nbformat": 4,
 "nbformat_minor": 2
}
