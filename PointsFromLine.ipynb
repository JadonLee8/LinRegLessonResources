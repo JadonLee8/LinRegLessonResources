{
 "cells": [
  {
   "cell_type": "code",
   "execution_count": 4,
   "metadata": {},
   "outputs": [],
   "source": [
    "import random\n",
    "from matplotlib import pyplot as plt\n",
    "import numpy as np\n",
    "import pandas"
   ]
  },
  {
   "cell_type": "code",
   "execution_count": 13,
   "metadata": {},
   "outputs": [
    {
     "name": "stdout",
     "output_type": "stream",
     "text": [
      "    Meetings Attended  Grade Increase\n",
      "0           17.617514        3.751174\n",
      "1           22.095430        5.866712\n",
      "2           20.871881        5.295987\n",
      "3           15.671392        4.539719\n",
      "4            3.512628       -0.579948\n",
      "5           22.991508        7.235487\n",
      "6           13.817640        2.252831\n",
      "7            3.501086        1.131681\n",
      "8            3.300220        2.824305\n",
      "9            7.689109        2.242310\n",
      "10           0.691374        1.916047\n",
      "11          21.749928        7.180691\n",
      "12          22.999236        8.664512\n",
      "13          15.701601        3.141076\n",
      "14           6.809046        0.264067\n",
      "15          21.922396        7.692874\n",
      "16          12.657017        5.316640\n",
      "17          18.661067        4.139503\n",
      "18          18.142606        5.342731\n",
      "19          12.628314        2.186440\n",
      "20           8.576610        2.137503\n",
      "21           1.199690        0.948692\n",
      "22          15.101632        4.492084\n",
      "23          12.136936        3.420078\n",
      "24          22.527500        5.576492\n",
      "25          15.444294        3.757154\n",
      "26           2.589994        1.754738\n",
      "27          17.088842        6.433416\n",
      "28          13.195484        2.001878\n",
      "29           8.275799        3.097939\n",
      "30          22.530167        5.045311\n",
      "31           2.542540        0.395668\n",
      "32          11.190875        3.434624\n",
      "33          11.739596        3.484166\n",
      "34          21.901379        7.739801\n",
      "35           3.387627        0.862639\n",
      "36           9.740361        4.194100\n",
      "37          19.451248        4.687673\n",
      "38           3.312912        1.330478\n",
      "39          17.286436        3.644194\n"
     ]
    },
    {
     "data": {
      "text/html": [
       "<div>\n",
       "<style scoped>\n",
       "    .dataframe tbody tr th:only-of-type {\n",
       "        vertical-align: middle;\n",
       "    }\n",
       "\n",
       "    .dataframe tbody tr th {\n",
       "        vertical-align: top;\n",
       "    }\n",
       "\n",
       "    .dataframe thead th {\n",
       "        text-align: right;\n",
       "    }\n",
       "</style>\n",
       "<table border=\"1\" class=\"dataframe\">\n",
       "  <thead>\n",
       "    <tr style=\"text-align: right;\">\n",
       "      <th></th>\n",
       "      <th>Meetings Attended</th>\n",
       "      <th>Grade Increase</th>\n",
       "    </tr>\n",
       "  </thead>\n",
       "  <tbody>\n",
       "    <tr>\n",
       "      <th>0</th>\n",
       "      <td>17.617514</td>\n",
       "      <td>3.751174</td>\n",
       "    </tr>\n",
       "    <tr>\n",
       "      <th>1</th>\n",
       "      <td>22.095430</td>\n",
       "      <td>5.866712</td>\n",
       "    </tr>\n",
       "    <tr>\n",
       "      <th>2</th>\n",
       "      <td>20.871881</td>\n",
       "      <td>5.295987</td>\n",
       "    </tr>\n",
       "    <tr>\n",
       "      <th>3</th>\n",
       "      <td>15.671392</td>\n",
       "      <td>4.539719</td>\n",
       "    </tr>\n",
       "    <tr>\n",
       "      <th>4</th>\n",
       "      <td>3.512628</td>\n",
       "      <td>-0.579948</td>\n",
       "    </tr>\n",
       "  </tbody>\n",
       "</table>\n",
       "</div>"
      ],
      "text/plain": [
       "   Meetings Attended  Grade Increase\n",
       "0          17.617514        3.751174\n",
       "1          22.095430        5.866712\n",
       "2          20.871881        5.295987\n",
       "3          15.671392        4.539719\n",
       "4           3.512628       -0.579948"
      ]
     },
     "execution_count": 13,
     "metadata": {},
     "output_type": "execute_result"
    },
    {
     "data": {
      "image/png": "[encoded data removed]",
      "text/plain": [
       "<Figure size 640x480 with 1 Axes>"
      ]
     },
     "metadata": {},
     "output_type": "display_data"
    }
   ],
   "source": [
    "m = .3\n",
    "b = 0\n",
    "numPoints = 40\n",
    "minX = 0\n",
    "maxX = 24\n",
    "yVariability = 2\n",
    "\n",
    "X = []\n",
    "Y = []\n",
    "for i in range(numPoints):\n",
    "      x = random.uniform(minX, maxX)\n",
    "      X.append(x)\n",
    "      y = m * x + b + random.uniform(-yVariability, yVariability)\n",
    "      Y.append(y)\n",
    "      plt.scatter(x, y)\n",
    "\n",
    "coordinates = {\n",
    "    'Meetings Attended': X,\n",
    "    'Grade Increase': Y\n",
    "}\n",
    "\n",
    "coords = pandas.DataFrame(coordinates)\n",
    "\n",
    "coords.to_csv('./output.csv', index=False)\n",
    "\n",
    "print(coords)\n",
    "coords.head()"
   ]
  }
 ],
 "metadata": {
  "kernelspec": {
   "display_name": "Python 3.10.8 64-bit",
   "language": "python",
   "name": "python3"
  },
  "language_info": {
   "codemirror_mode": {
    "name": "ipython",
    "version": 3
   },
   "file_extension": ".py",
   "mimetype": "text/x-python",
   "name": "python",
   "nbconvert_exporter": "python",
   "pygments_lexer": "ipython3",
   "version": "3.10.8"
  },
  "orig_nbformat": 4,
  "vscode": {
   "interpreter": {
    "hash": "bd13b3ad3a7bbbe735ec4bed59288a593d59184c2d706c2cba977143b0f1fc76"
   }
  }
 },
 "nbformat": 4,
 "nbformat_minor": 2
}
